{
  "nbformat": 4,
  "nbformat_minor": 0,
  "metadata": {
    "colab": {
      "name": "pilotnavsys.ipynb",
      "provenance": [],
      "collapsed_sections": [],
      "authorship_tag": "ABX9TyNleok6pRjj1VcrGJVsRP35"
    },
    "kernelspec": {
      "name": "python3",
      "display_name": "Python 3"
    },
    "language_info": {
      "name": "python"
    }
  },
  "cells": [
    {
      "cell_type": "code",
      "metadata": {
        "colab": {
          "base_uri": "https://localhost:8080/"
        },
        "id": "IodoUGylePUR",
        "outputId": "521d150e-3a34-4fa0-d4c8-126d15ca3581"
      },
      "source": [
        "print(\"Welcome to AIRPLANE NAVIGATION SYSTEM \\n\")\n",
        "\n",
        "# TAKING INPUT(HEIGHT OF PLANE) BY THE USER\n",
        "height = int(input(\"ENTER HEIGHT OF YOUR PLANE: \"))\n",
        "\n",
        "# WHEN HEIGHT IS LESS THAN 3000\n",
        "if height <= 3000 :\n",
        "  print(\"You are on the safe distance for Landing...\\n YOU CAN LAND RIGHT NOW !!\")\n",
        "  print(\"THANK YOU for using our AIRPLANE NAVIGATION SYSTEM\")\n",
        "\n",
        "# WHEN HEIGHT IS IN BETWEEN 3000 AND 6000\n",
        "elif height > 3000 and height < 6000:\n",
        "    print(\"Come down to height of 3000 and OPEN YOUR LANDING GEAR !!!\")\n",
        "    print(\"THANK YOU for using our AIRPLANE NAVIGATION SYSTEM\")\n",
        "\n",
        "# WHEN HEIGHT IS MORE THAN 6000\n",
        "elif height >= 6000:\n",
        "    print(\"You are not on the safe distance for landing..\\n SORRY,PLEASE GO AROUND !!\")\n",
        "    print(\"THANK YOU for using our AIRPLANE NAVIGATION SYSTEM\")\n"
      ],
      "execution_count": 21,
      "outputs": [
        {
          "output_type": "stream",
          "text": [
            "Welcome to AIRPLANE NAVIGATION SYSTEM \n",
            "\n",
            "ENTER HEIGHT OF YOUR PLANE: 5000\n",
            "Come down to height of 3000 and OPEN YOUR LANDING GEAR !!!\n",
            "THANK YOU for using our AIRPLANE NAVIGATION SYSTEM\n"
          ],
          "name": "stdout"
        }
      ]
    }
  ]
}